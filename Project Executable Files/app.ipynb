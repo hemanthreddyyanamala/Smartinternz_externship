{
 "cells": [
  {
   "cell_type": "code",
   "execution_count": 1,
   "id": "978ea869-5fc2-4878-a891-7142c3cccde5",
   "metadata": {},
   "outputs": [],
   "source": [
    "import numpy as np\n",
    "from numpy.core.fromnumeric import size\n",
    "import pandas as pd\n",
    "from sklearn.model_selection import train_test_split \n",
    "from flask import Flask, render_template, request\n",
    "import pickle\n",
    "import datetime as dt\n",
    "import calendar\n",
    "import os"
   ]
  },
  {
   "cell_type": "code",
   "execution_count": 2,
   "id": "7af812bf-f74f-486e-841a-499f7414260b",
   "metadata": {},
   "outputs": [],
   "source": [
    "app= Flask(__name__,template_folder='tempates')\n",
    "loaded_model =pickle.load(open('rf_pickel.pkl', 'rb'))\n",
    "fet =pd.read_csv('merged_data1.csv')"
   ]
  },
  {
   "cell_type": "code",
   "execution_count": 3,
   "id": "b1734f4b-ed22-472f-867f-8e1c706877f7",
   "metadata": {},
   "outputs": [],
   "source": [
    "@app.route('/')\n",
    "def home():\n",
    "    return render_template('index.html')"
   ]
  },
  {
   "cell_type": "code",
   "execution_count": 4,
   "id": "4f5af665-1a5f-4849-b885-6dace6c5902b",
   "metadata": {},
   "outputs": [],
   "source": [
    "\n",
    "#fet['IsHoliday'] = fet['IsHoliday_x'].astype(int) + fet['IsHoliday_y'].astype(int)\n"
   ]
  },
  {
   "cell_type": "code",
   "execution_count": 5,
   "id": "20718ba9-e096-4252-9792-c162b3c5d15e",
   "metadata": {},
   "outputs": [],
   "source": [
    "#del fet['IsHoliday_x']"
   ]
  },
  {
   "cell_type": "code",
   "execution_count": 6,
   "id": "eef39437-5516-473c-8776-b7f4817b4b79",
   "metadata": {},
   "outputs": [],
   "source": [
    "#del fet['IsHoliday_y']"
   ]
  },
  {
   "cell_type": "code",
   "execution_count": 7,
   "id": "2ff77899-e145-4188-acae-392e18980270",
   "metadata": {},
   "outputs": [],
   "source": [
    "#fet['month']=fet['Month']\n"
   ]
  },
  {
   "cell_type": "code",
   "execution_count": 8,
   "id": "51ed3b94-7880-4956-b533-d7bb34e4e1b8",
   "metadata": {},
   "outputs": [],
   "source": [
    "#fet['MarkDownd']=fet['MarkDown1'].astype(int) + fet['MarkDown2'].astype(int)+fet['MarkDown4'].astype(int) + fet['MarkDown3'].astype(int)+fet['MarkDown5'].astype(int)"
   ]
  },
  {
   "cell_type": "code",
   "execution_count": 9,
   "id": "cb7b6884-e417-419c-a56d-992d952d93cc",
   "metadata": {},
   "outputs": [
    {
     "data": {
      "text/html": [
       "<div>\n",
       "<style scoped>\n",
       "    .dataframe tbody tr th:only-of-type {\n",
       "        vertical-align: middle;\n",
       "    }\n",
       "\n",
       "    .dataframe tbody tr th {\n",
       "        vertical-align: top;\n",
       "    }\n",
       "\n",
       "    .dataframe thead th {\n",
       "        text-align: right;\n",
       "    }\n",
       "</style>\n",
       "<table border=\"1\" class=\"dataframe\">\n",
       "  <thead>\n",
       "    <tr style=\"text-align: right;\">\n",
       "      <th></th>\n",
       "      <th>Store</th>\n",
       "      <th>Dept</th>\n",
       "      <th>Weekly_Sales</th>\n",
       "      <th>IsHoliday_x</th>\n",
       "      <th>Temperature</th>\n",
       "      <th>Fuel_Price</th>\n",
       "      <th>MarkDown1</th>\n",
       "      <th>MarkDown2</th>\n",
       "      <th>MarkDown3</th>\n",
       "      <th>MarkDown4</th>\n",
       "      <th>...</th>\n",
       "      <th>CPI</th>\n",
       "      <th>Unemployment</th>\n",
       "      <th>IsHoliday_y</th>\n",
       "      <th>Type</th>\n",
       "      <th>Size</th>\n",
       "      <th>month</th>\n",
       "      <th>year</th>\n",
       "      <th>is_weekend</th>\n",
       "      <th>Month</th>\n",
       "      <th>Year</th>\n",
       "    </tr>\n",
       "  </thead>\n",
       "  <tbody>\n",
       "    <tr>\n",
       "      <th>0</th>\n",
       "      <td>1</td>\n",
       "      <td>1</td>\n",
       "      <td>24924.50</td>\n",
       "      <td>0</td>\n",
       "      <td>42.31</td>\n",
       "      <td>2.572</td>\n",
       "      <td>0.0</td>\n",
       "      <td>0.0</td>\n",
       "      <td>0.0</td>\n",
       "      <td>0.0</td>\n",
       "      <td>...</td>\n",
       "      <td>211.096358</td>\n",
       "      <td>8.106</td>\n",
       "      <td>False</td>\n",
       "      <td>A</td>\n",
       "      <td>151315</td>\n",
       "      <td>2</td>\n",
       "      <td>2010</td>\n",
       "      <td>0</td>\n",
       "      <td>2</td>\n",
       "      <td>2010</td>\n",
       "    </tr>\n",
       "    <tr>\n",
       "      <th>1</th>\n",
       "      <td>1</td>\n",
       "      <td>2</td>\n",
       "      <td>50605.27</td>\n",
       "      <td>0</td>\n",
       "      <td>42.31</td>\n",
       "      <td>2.572</td>\n",
       "      <td>0.0</td>\n",
       "      <td>0.0</td>\n",
       "      <td>0.0</td>\n",
       "      <td>0.0</td>\n",
       "      <td>...</td>\n",
       "      <td>211.096358</td>\n",
       "      <td>8.106</td>\n",
       "      <td>False</td>\n",
       "      <td>A</td>\n",
       "      <td>151315</td>\n",
       "      <td>2</td>\n",
       "      <td>2010</td>\n",
       "      <td>0</td>\n",
       "      <td>2</td>\n",
       "      <td>2010</td>\n",
       "    </tr>\n",
       "    <tr>\n",
       "      <th>2</th>\n",
       "      <td>1</td>\n",
       "      <td>3</td>\n",
       "      <td>13740.12</td>\n",
       "      <td>0</td>\n",
       "      <td>42.31</td>\n",
       "      <td>2.572</td>\n",
       "      <td>0.0</td>\n",
       "      <td>0.0</td>\n",
       "      <td>0.0</td>\n",
       "      <td>0.0</td>\n",
       "      <td>...</td>\n",
       "      <td>211.096358</td>\n",
       "      <td>8.106</td>\n",
       "      <td>False</td>\n",
       "      <td>A</td>\n",
       "      <td>151315</td>\n",
       "      <td>2</td>\n",
       "      <td>2010</td>\n",
       "      <td>0</td>\n",
       "      <td>2</td>\n",
       "      <td>2010</td>\n",
       "    </tr>\n",
       "    <tr>\n",
       "      <th>3</th>\n",
       "      <td>1</td>\n",
       "      <td>4</td>\n",
       "      <td>39954.04</td>\n",
       "      <td>0</td>\n",
       "      <td>42.31</td>\n",
       "      <td>2.572</td>\n",
       "      <td>0.0</td>\n",
       "      <td>0.0</td>\n",
       "      <td>0.0</td>\n",
       "      <td>0.0</td>\n",
       "      <td>...</td>\n",
       "      <td>211.096358</td>\n",
       "      <td>8.106</td>\n",
       "      <td>False</td>\n",
       "      <td>A</td>\n",
       "      <td>151315</td>\n",
       "      <td>2</td>\n",
       "      <td>2010</td>\n",
       "      <td>0</td>\n",
       "      <td>2</td>\n",
       "      <td>2010</td>\n",
       "    </tr>\n",
       "    <tr>\n",
       "      <th>4</th>\n",
       "      <td>1</td>\n",
       "      <td>5</td>\n",
       "      <td>32229.38</td>\n",
       "      <td>0</td>\n",
       "      <td>42.31</td>\n",
       "      <td>2.572</td>\n",
       "      <td>0.0</td>\n",
       "      <td>0.0</td>\n",
       "      <td>0.0</td>\n",
       "      <td>0.0</td>\n",
       "      <td>...</td>\n",
       "      <td>211.096358</td>\n",
       "      <td>8.106</td>\n",
       "      <td>False</td>\n",
       "      <td>A</td>\n",
       "      <td>151315</td>\n",
       "      <td>2</td>\n",
       "      <td>2010</td>\n",
       "      <td>0</td>\n",
       "      <td>2</td>\n",
       "      <td>2010</td>\n",
       "    </tr>\n",
       "  </tbody>\n",
       "</table>\n",
       "<p>5 rows × 21 columns</p>\n",
       "</div>"
      ],
      "text/plain": [
       "   Store  Dept  Weekly_Sales  IsHoliday_x  Temperature  Fuel_Price  MarkDown1  \\\n",
       "0      1     1      24924.50            0        42.31       2.572        0.0   \n",
       "1      1     2      50605.27            0        42.31       2.572        0.0   \n",
       "2      1     3      13740.12            0        42.31       2.572        0.0   \n",
       "3      1     4      39954.04            0        42.31       2.572        0.0   \n",
       "4      1     5      32229.38            0        42.31       2.572        0.0   \n",
       "\n",
       "   MarkDown2  MarkDown3  MarkDown4  ...         CPI  Unemployment  \\\n",
       "0        0.0        0.0        0.0  ...  211.096358         8.106   \n",
       "1        0.0        0.0        0.0  ...  211.096358         8.106   \n",
       "2        0.0        0.0        0.0  ...  211.096358         8.106   \n",
       "3        0.0        0.0        0.0  ...  211.096358         8.106   \n",
       "4        0.0        0.0        0.0  ...  211.096358         8.106   \n",
       "\n",
       "   IsHoliday_y  Type    Size  month  year  is_weekend  Month  Year  \n",
       "0        False     A  151315      2  2010           0      2  2010  \n",
       "1        False     A  151315      2  2010           0      2  2010  \n",
       "2        False     A  151315      2  2010           0      2  2010  \n",
       "3        False     A  151315      2  2010           0      2  2010  \n",
       "4        False     A  151315      2  2010           0      2  2010  \n",
       "\n",
       "[5 rows x 21 columns]"
      ]
     },
     "execution_count": 9,
     "metadata": {},
     "output_type": "execute_result"
    }
   ],
   "source": [
    "fet.head()"
   ]
  },
  {
   "cell_type": "code",
   "execution_count": null,
   "id": "86e4fdad-5be5-4436-8c28-4a54e0b5b2cb",
   "metadata": {},
   "outputs": [],
   "source": []
  },
  {
   "cell_type": "code",
   "execution_count": 10,
   "id": "06727134-b0a1-499b-a94a-24a0d0d4f27b",
   "metadata": {},
   "outputs": [],
   "source": [
    "@app.route('/predict', methods=['POST'])\n",
    "def predict():\n",
    "    store = request.form.get('store')\n",
    "    dept = request.form.get('dept')\n",
    "    date=request.form.get('date')\n",
    "    isHoliday = request.form['isHolidayRadio']\n",
    "    size=request.form.get('size')\n",
    "    temp=request.form.get('temp')\n",
    "    d=dt.datetime.strptime(date, '%Y-%m-%d')\n",
    "    year=(d.year) \n",
    "    month= d.month\n",
    "    month_name=calendar.month_name [month]\n",
    "    print(\"year=\", type(year))\n",
    "    print(\"year val=\", year, type(year), month)\n",
    "    X_test=pd.DataFrame({'Store': [store], 'Dept': [dept],'Size': [size],\"IsHoliday_x\":[isHoliday],'CPI': [212],'Temperature':[temp]  ,'Type_B':[0],'Type_C':[1],\"Month\": [month], 'Year': [year] ,\"IsHoliday_y\":[isHoliday]})\n",
    "    print(\"X test\", X_test.head()) \n",
    "    print(\"type of X_test\", type(X_test))\n",
    "    print(\"predict=\", store, dept, date, isHoliday)\n",
    "    y_pred=loaded_model.predict(X_test)\n",
    "    output=round(y_pred[0],2) \n",
    "    print(\"predicted\", output)\n",
    "    print( output,store,dept,month_name,year)\n",
    "    return render_template('index.html', output=output, store=store, dept=dept,\n",
    "    month_name=month_name, year=year)\n",
    "    \n",
    "port=os.getenv('VCAP_APP_PORT\", \"8880')\n",
    "#'IsHoliday_x':[IsHoliday_x],'IsHoliday_y':[IsHoliday_y],'Month':[Month],'Year':[Year]\"MarkDownd\": [2050]"
   ]
  },
  {
   "cell_type": "code",
   "execution_count": null,
   "id": "99fa3099-2fff-414d-b49f-efdd631f6b61",
   "metadata": {},
   "outputs": [],
   "source": []
  },
  {
   "cell_type": "code",
   "execution_count": null,
   "id": "120e170b-3762-47ed-8b69-f132616aedd3",
   "metadata": {},
   "outputs": [
    {
     "name": "stdout",
     "output_type": "stream",
     "text": [
      " * Serving Flask app '__main__'\n",
      " * Debug mode: off\n"
     ]
    },
    {
     "name": "stderr",
     "output_type": "stream",
     "text": [
      "WARNING: This is a development server. Do not use it in a production deployment. Use a production WSGI server instead.\n",
      " * Running on all addresses (0.0.0.0)\n",
      " * Running on http://127.0.0.1:5000\n",
      " * Running on http://192.168.90.103:5000\n",
      "Press CTRL+C to quit\n",
      "127.0.0.1 - - [05/May/2024 12:00:44] \"GET / HTTP/1.1\" 200 -\n",
      "127.0.0.1 - - [05/May/2024 12:01:01] \"POST /predict HTTP/1.1\" 200 -\n"
     ]
    },
    {
     "name": "stdout",
     "output_type": "stream",
     "text": [
      "year= <class 'int'>\n",
      "year val= 2024 <class 'int'> 5\n",
      "X test   Store Dept Size IsHoliday_x  CPI Temperature  Type_B  Type_C  Month  Year  \\\n",
      "0     3    3   33           1  212          33       0       1      5  2024   \n",
      "\n",
      "  IsHoliday_y  \n",
      "0           1  \n",
      "type of X_test <class 'pandas.core.frame.DataFrame'>\n",
      "predict= 3 3 2024-05-04 1\n",
      "predicted 2141.89\n",
      "2141.89 3 3 May 2024\n"
     ]
    },
    {
     "name": "stderr",
     "output_type": "stream",
     "text": [
      "127.0.0.1 - - [05/May/2024 12:01:36] \"POST /predict HTTP/1.1\" 200 -\n"
     ]
    },
    {
     "name": "stdout",
     "output_type": "stream",
     "text": [
      "year= <class 'int'>\n",
      "year val= 2024 <class 'int'> 5\n",
      "X test   Store Dept Size IsHoliday_x  CPI Temperature  Type_B  Type_C  Month  Year  \\\n",
      "0     3    3   36           1  212          40       0       1      5  2024   \n",
      "\n",
      "  IsHoliday_y  \n",
      "0           1  \n",
      "type of X_test <class 'pandas.core.frame.DataFrame'>\n",
      "predict= 3 3 2024-05-05 1\n",
      "predicted 2110.57\n",
      "2110.57 3 3 May 2024\n"
     ]
    }
   ],
   "source": [
    "if __name__== \"__main__\":\n",
    "    app.secret_key=os.urandom(12) \n",
    "    app.run(debug=False, host='0.0.0.0', port=port)"
   ]
  },
  {
   "cell_type": "code",
   "execution_count": null,
   "id": "e69ca2ec-9eb7-4740-ae6e-3480fd9a3718",
   "metadata": {},
   "outputs": [],
   "source": [
    "#app=Flask(__name__)\n",
    "#def "
   ]
  },
  {
   "cell_type": "code",
   "execution_count": null,
   "id": "4473c4d5-6af1-42ad-ab8d-9be0905b0da3",
   "metadata": {},
   "outputs": [],
   "source": []
  }
 ],
 "metadata": {
  "kernelspec": {
   "display_name": "Python 3 (ipykernel)",
   "language": "python",
   "name": "python3"
  },
  "language_info": {
   "codemirror_mode": {
    "name": "ipython",
    "version": 3
   },
   "file_extension": ".py",
   "mimetype": "text/x-python",
   "name": "python",
   "nbconvert_exporter": "python",
   "pygments_lexer": "ipython3",
   "version": "3.11.7"
  }
 },
 "nbformat": 4,
 "nbformat_minor": 5
}
